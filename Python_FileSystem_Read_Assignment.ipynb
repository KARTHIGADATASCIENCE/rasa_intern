{
 "cells": [
  {
   "cell_type": "markdown",
   "id": "35f54d91",
   "metadata": {},
   "source": [
    "# 📘 Internship Assignment: Python File System - Reading Files"
   ]
  },
  {
   "cell_type": "markdown",
   "id": "8f02b278",
   "metadata": {},
   "source": [
    "**Week:** 1  \n",
    "**Topic:** File Reading in Python  \n",
    "**Objective:** Learn how to read data from files using Python."
   ]
  },
  {
   "cell_type": "markdown",
   "id": "d7855aaf",
   "metadata": {},
   "source": [
    "## ✅ Learning Outcomes"
   ]
  },
  {
   "cell_type": "markdown",
   "id": "3cee5587",
   "metadata": {},
   "source": [
    "- Open and read text files in Python.\n",
    "- Use different read methods (`read()`, `readline()`, `readlines()`).\n",
    "- Iterate over file content line-by-line.\n",
    "- Handle file paths using `os` and `pathlib`."
   ]
  },
  {
   "cell_type": "markdown",
   "id": "c8d5896a",
   "metadata": {},
   "source": [
    "## 🔹 Part 1: Basic File Reading"
   ]
  },
  {
   "cell_type": "code",
   "execution_count": 10,
   "id": "0ae09d85",
   "metadata": {},
   "outputs": [
    {
     "name": "stdout",
     "output_type": "stream",
     "text": [
      "Hi there!\n",
      "Welcome to the world of Python.\n",
      "File handling is a powerful feature.\n",
      "You can read, write, and manipulate files.\n",
      "Each line can be processed separately.\n",
      "Practice makes perfect in coding.\n",
      "Happy learning with file operations!\n",
      "\n"
     ]
    }
   ],
   "source": [
    "with open(\"sample.txt\", \"r\") as file:\n",
    "    content = file.read()\n",
    "    print(content)"
   ]
  },
  {
   "cell_type": "markdown",
   "id": "bc86a29e-3a26-4c95-9244-7d1aebd46882",
   "metadata": {},
   "source": [
    "## Task 1:\n",
    "Create a file called notes.txt and add 4–5 lines of text.\n",
    "Write a program to read the entire file and print the content."
   ]
  },
  {
   "cell_type": "code",
   "execution_count": 12,
   "id": "b5b0db25-cdf4-487b-aadc-3ffb817ba8bb",
   "metadata": {},
   "outputs": [
    {
     "name": "stdout",
     "output_type": "stream",
     "text": [
      "Hi.\n",
      "Welcome to Rasa AI.\n",
      "Here are the read files sample.\n",
      "More efficient for working read files.\n",
      "Please practice to get more.\n",
      "Thank you.\n",
      "\n"
     ]
    }
   ],
   "source": [
    "with open ('notes.txt','r') as file:\n",
    "    content=file.read()\n",
    "    print(content)"
   ]
  },
  {
   "cell_type": "markdown",
   "id": "5160683a",
   "metadata": {},
   "source": [
    "## 🔹 Part 2: Reading Line by Line"
   ]
  },
  {
   "cell_type": "code",
   "execution_count": 14,
   "id": "36ba05a9",
   "metadata": {},
   "outputs": [
    {
     "name": "stdout",
     "output_type": "stream",
     "text": [
      "Hi there!\n",
      "Welcome to the world of Python.\n",
      "File handling is a powerful feature.\n",
      "You can read, write, and manipulate files.\n",
      "Each line can be processed separately.\n",
      "Practice makes perfect in coding.\n",
      "Happy learning with file operations!\n"
     ]
    }
   ],
   "source": [
    "with open(\"sample.txt\", \"r\") as file:\n",
    "    line = file.readline()\n",
    "    while line:\n",
    "        print(line.strip())\n",
    "        line = file.readline()"
   ]
  },
  {
   "cell_type": "markdown",
   "id": "25a9d104-2d89-429a-9ef9-76daf914ed28",
   "metadata": {},
   "source": [
    "## Task 2:\n",
    "Modify your earlier program to read the file line by line and print with line numbers (e.g., Line 1: ...)."
   ]
  },
  {
   "cell_type": "code",
   "execution_count": 16,
   "id": "6fc1ebac-e43e-4cf2-b831-5934fa9e22ad",
   "metadata": {},
   "outputs": [
    {
     "name": "stdout",
     "output_type": "stream",
     "text": [
      "1 : Hi.\n",
      "2 : Welcome to Rasa AI.\n",
      "3 : Here are the read files sample.\n",
      "4 : More efficient for working read files.\n",
      "5 : Please practice to get more.\n",
      "6 : Thank you.\n"
     ]
    }
   ],
   "source": [
    "with open('notes.txt','r') as file:\n",
    "    line_number=1\n",
    "    content=file.readline()\n",
    "    while content:\n",
    "        print(f\"{line_number} : {content.strip()}\")\n",
    "        line_number+=1\n",
    "        content=file.readline()"
   ]
  },
  {
   "cell_type": "markdown",
   "id": "96b781b8",
   "metadata": {},
   "source": [
    "## 🔹 Part 3: Read All Lines into a List"
   ]
  },
  {
   "cell_type": "code",
   "execution_count": 19,
   "id": "0afe4fa0",
   "metadata": {},
   "outputs": [
    {
     "name": "stdout",
     "output_type": "stream",
     "text": [
      "Total lines: 7\n",
      "['Hi there!\\n', 'Welcome to the world of Python.\\n', 'File handling is a powerful feature.\\n', 'You can read, write, and manipulate files.\\n', 'Each line can be processed separately.\\n', 'Practice makes perfect in coding.\\n', 'Happy learning with file operations!\\n']\n"
     ]
    }
   ],
   "source": [
    "with open(\"sample.txt\", \"r\") as file:\n",
    "    lines = file.readlines()\n",
    "    print(\"Total lines:\", len(lines))\n",
    "    print(lines)"
   ]
  },
  {
   "cell_type": "markdown",
   "id": "83adb874-1253-4252-abac-1c6ef191b3a0",
   "metadata": {},
   "source": [
    "## Task 3:\n",
    "Count the number of words in each line and print it in the format: Line 1 has 6 words"
   ]
  },
  {
   "cell_type": "code",
   "execution_count": 21,
   "id": "ac867332-ff09-49f7-9d30-a44919303dd6",
   "metadata": {},
   "outputs": [
    {
     "name": "stdout",
     "output_type": "stream",
     "text": [
      "Line 1 has 1 words\n",
      "Line 2 has 4 words\n",
      "Line 3 has 6 words\n",
      "Line 4 has 6 words\n",
      "Line 5 has 5 words\n",
      "Line 6 has 2 words\n"
     ]
    }
   ],
   "source": [
    "with open(\"notes.txt\", \"r\") as file:\n",
    "    line_number = 1\n",
    "    for line in file:\n",
    "        word_count = len(line.strip().split())\n",
    "        print(f\"Line {line_number} has {word_count} words\")\n",
    "        line_number += 1"
   ]
  },
  {
   "cell_type": "markdown",
   "id": "ee6ab704",
   "metadata": {},
   "source": [
    "## 🔹 Part 4: Iterate Over File"
   ]
  },
  {
   "cell_type": "code",
   "execution_count": 23,
   "id": "a1339b32",
   "metadata": {},
   "outputs": [
    {
     "name": "stdout",
     "output_type": "stream",
     "text": [
      "Line 1: Hi there!\n",
      "Line 2: Welcome to the world of Python.\n",
      "Line 3: File handling is a powerful feature.\n",
      "Line 4: You can read, write, and manipulate files.\n",
      "Line 5: Each line can be processed separately.\n",
      "Line 6: Practice makes perfect in coding.\n",
      "Line 7: Happy learning with file operations!\n"
     ]
    }
   ],
   "source": [
    "with open(\"sample.txt\", \"r\") as file:\n",
    "    for index, line in enumerate(file, 1):\n",
    "        print(f\"Line {index}: {line.strip()}\")"
   ]
  },
  {
   "cell_type": "markdown",
   "id": "91df49a3-1cc5-4982-a846-df8c737d2bcd",
   "metadata": {},
   "source": [
    "## Task 4:\n",
    "- Use pythonic method to find the total number of characters (excluding newlines) in the file."
   ]
  },
  {
   "cell_type": "code",
   "execution_count": 27,
   "id": "05d7a303-3981-49cd-b1f1-7d893676a559",
   "metadata": {},
   "outputs": [
    {
     "name": "stdout",
     "output_type": "stream",
     "text": [
      "Total number of characters (excluding newlines): 129\n"
     ]
    }
   ],
   "source": [
    "with open(\"notes.txt\", \"r\") as file:\n",
    "    total_chars = sum(len(line.strip('\\n')) for line in file)\n",
    "    print(f\"Total number of characters (excluding newlines): {total_chars}\")"
   ]
  },
  {
   "cell_type": "markdown",
   "id": "cd681455",
   "metadata": {},
   "source": [
    "## 🔹 Part 5: Working with Paths"
   ]
  },
  {
   "cell_type": "code",
   "execution_count": 29,
   "id": "80271915",
   "metadata": {},
   "outputs": [
    {
     "name": "stdout",
     "output_type": "stream",
     "text": [
      "File exists. Size: 239 bytes\n"
     ]
    }
   ],
   "source": [
    "from pathlib import Path\n",
    "file_path = Path(\"sample.txt\")\n",
    "if file_path.exists():\n",
    "    print(\"File exists. Size:\", file_path.stat().st_size, \"bytes\")\n",
    "else:\n",
    "    print(\"File does not exist.\")"
   ]
  },
  {
   "cell_type": "markdown",
   "id": "7f9e917b-d633-49e2-a05c-9be44cb67604",
   "metadata": {},
   "source": [
    "## Task:\n",
    "- Ask the user to enter a filename and check whether the file exists. If it does, read and display the content; otherwise, print a warning.\n"
   ]
  },
  {
   "cell_type": "code",
   "execution_count": 43,
   "id": "843c58af-9f9d-4610-9e33-dd8bf3200346",
   "metadata": {},
   "outputs": [
    {
     "name": "stdin",
     "output_type": "stream",
     "text": [
      "Enter the filename:  sample.txt\n"
     ]
    },
    {
     "name": "stdout",
     "output_type": "stream",
     "text": [
      "\n",
      "File Content:\n",
      "\n",
      "Hi there!\n",
      "Welcome to the world of Python.\n",
      "File handling is a powerful feature.\n",
      "You can read, write, and manipulate files.\n",
      "Each line can be processed separately.\n",
      "Practice makes perfect in coding.\n",
      "Happy learning with file operations!\n",
      "\n"
     ]
    }
   ],
   "source": [
    "import os\n",
    "filename = input(\"Enter the filename: \")\n",
    "if os.path.exists(filename):\n",
    "    with open(filename, 'r') as file:\n",
    "        content = file.read()\n",
    "        print(\"\\nFile Content:\\n\")\n",
    "        print(content)\n",
    "else:\n",
    "    print(f\" Warning: The file '{filename}' does not exist.\")"
   ]
  },
  {
   "cell_type": "code",
   "execution_count": null,
   "id": "214fd8a2-e562-4404-9de6-748b26e6272e",
   "metadata": {},
   "outputs": [],
   "source": []
  }
 ],
 "metadata": {
  "kernelspec": {
   "display_name": "Python 3 (ipykernel)",
   "language": "python",
   "name": "python3"
  },
  "language_info": {
   "codemirror_mode": {
    "name": "ipython",
    "version": 3
   },
   "file_extension": ".py",
   "mimetype": "text/x-python",
   "name": "python",
   "nbconvert_exporter": "python",
   "pygments_lexer": "ipython3",
   "version": "3.12.4"
  }
 },
 "nbformat": 4,
 "nbformat_minor": 5
}
