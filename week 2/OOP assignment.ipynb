{
 "cells": [
  {
   "cell_type": "markdown",
   "id": "14fb6900-a3b0-4dc8-8159-52699ec440a9",
   "metadata": {},
   "source": [
    "## Task 1:\n",
    "1. Create a `Car` class with attributes `brand`, `model`, and `year`.\n",
    "2. Add a method `get_details()` to display all the information.\n"
   ]
  },
  {
   "cell_type": "code",
   "execution_count": 1,
   "id": "b7b3ce31-9060-4354-8490-062f4740ccf6",
   "metadata": {},
   "outputs": [
    {
     "name": "stdout",
     "output_type": "stream",
     "text": [
      "The details of the car is Model: k1 Year :2003 Brand: xuv\n"
     ]
    }
   ],
   "source": [
    "class car:\n",
    "    def __init__(self,brand,model,year):\n",
    "        self.brand=brand\n",
    "        self.model=model\n",
    "        self.year=year\n",
    "    def get_details(self):\n",
    "        print(f\"The details of the car is Model: {self.model} Year :{self.year} Brand: {self.brand}\")\n",
    "c1=car(\"xuv\",\"k1\", 2003)\n",
    "c1.get_details()"
   ]
  },
  {
   "cell_type": "markdown",
   "id": "495cbdac-bf10-440a-be23-ced6d146d35c",
   "metadata": {},
   "source": [
    "## Task 2:\n",
    " Create a `BankAccount` class with private `balance` and public methods `deposit()`, `withdraw()`, and `check_balance()`.\n"
   ]
  },
  {
   "cell_type": "code",
   "execution_count": 44,
   "id": "4894ed53-7e9a-4484-a13e-29ef72c27f76",
   "metadata": {},
   "outputs": [
    {
     "name": "stdout",
     "output_type": "stream",
     "text": [
      "Amit Deposited amount is 500 then balance is 1500\n",
      "Amit withdrawl amount is 500 \n",
      "the balance amount of Amit account is 1250\n"
     ]
    }
   ],
   "source": [
    "class BankAccount:\n",
    "    def __init__(self,owner,balance):\n",
    "        self.owner=owner\n",
    "        self.__balance=balance\n",
    "    def deposit(self,amount):\n",
    "        self.amount=amount\n",
    "        self.__balance+=amount\n",
    "        print (f\"{self.owner} Deposited amount is {self.amount} then balance is {self.__balance}\")\n",
    "    def withdraw(self,amount):\n",
    "        self.__balance-=amount\n",
    "        print(f\"{self.owner} withdrawl amount is {self.amount} \")\n",
    "    def check_balance(self):\n",
    "        print(f\"the balance amount of {self.owner} account is {self.__balance}\") \n",
    "\n",
    "person=BankAccount(\"Amit\",1000)\n",
    "person.deposit(500)\n",
    "person.withdraw(250)\n",
    "person.check_balance()\n",
    "        "
   ]
  },
  {
   "cell_type": "markdown",
   "id": "04ca7072-6122-45c2-914c-addab1d10a1d",
   "metadata": {},
   "source": [
    "## Task 3:\n",
    "1. Create a base class `Employee` and a derived class `Manager` that adds a `department` field.\n",
    "2. Override a method in the derived class.\n"
   ]
  },
  {
   "cell_type": "code",
   "execution_count": 36,
   "id": "b5b0123f-9b68-40a2-9c1a-70c7289f25b2",
   "metadata": {},
   "outputs": [
    {
     "name": "stdout",
     "output_type": "stream",
     "text": [
      " the Manager belongs to the dept Finance\n"
     ]
    }
   ],
   "source": [
    "class Employee:\n",
    "    def department(self):\n",
    "        print(\" the employee belongs to the company\")\n",
    "class Manager:\n",
    "    def department(self,dept):\n",
    "        self.dept=dept\n",
    "        print(f\" the Manager belongs to the dept {self.dept}\")\n",
    "\n",
    "m1=Manager()\n",
    "m1.department(\"Finance\")\n",
    "        "
   ]
  },
  {
   "cell_type": "markdown",
   "id": "1a7b152c-d165-4602-836e-b76dd939e061",
   "metadata": {},
   "source": [
    "## Task 4:\n",
    "Create an abstract `Shape` class with method `area()`. Derive `Rectangle` and `Triangle` classes with custom implementations.\n"
   ]
  },
  {
   "cell_type": "code",
   "execution_count": 54,
   "id": "a6e3922d-effa-4d9b-bb59-043e759083df",
   "metadata": {},
   "outputs": [
    {
     "name": "stdout",
     "output_type": "stream",
     "text": [
      "area of rectangle is  20 \n",
      "area of triangle is 10.0 \n"
     ]
    }
   ],
   "source": [
    "class shape:\n",
    "    def area(self):\n",
    "        pass\n",
    "class Rectange:\n",
    "    def area(self,l,b):\n",
    "        self.length=l\n",
    "        self.breadth=b\n",
    "        print(f\"area of rectangle is  {l*b} \")\n",
    "class Triangle:\n",
    "    def area(self,l,b):\n",
    "        self.length=l\n",
    "        self.breadth=b\n",
    "        print(f\"area of triangle is {0.5*l*b} \")\n",
    "\n",
    "for i in (Rectange(),Triangle()):\n",
    "    i.area(4,5)"
   ]
  },
  {
   "cell_type": "markdown",
   "id": "8c6d99f9-c97e-4a2b-b4d2-d45607b3e29b",
   "metadata": {},
   "source": [
    "## Task:\n",
    "Create a class `Book` with `__init__()` initializing book details. Use `__del__()` to print a message when the book object is deleted.\n"
   ]
  },
  {
   "cell_type": "code",
   "execution_count": 69,
   "id": "a878c77f-6f27-41b3-9084-c0f4dafe2e35",
   "metadata": {
    "scrolled": true
   },
   "outputs": [
    {
     "name": "stdout",
     "output_type": "stream",
     "text": [
      " The title is ML by Orelley in 2002 \n",
      "book ML is being deleted from memory\n"
     ]
    }
   ],
   "source": [
    "class Book:\n",
    "    def __init__(self,title, author,year):\n",
    "        self.title=title\n",
    "        self.author=author\n",
    "        self.year=year\n",
    "    def __del__(self):\n",
    "        print(f\"book {self.title} is being deleted from memory\")\n",
    "    def get_info(self):\n",
    "        print(f\" The title is {self.title} by {self.author} in {self.year} \")\n",
    "\n",
    "bk=Book(\"ML\",\"Orelley\",2002)\n",
    "bk.get_info()\n",
    "bk.__del__()"
   ]
  },
  {
   "cell_type": "code",
   "execution_count": null,
   "id": "1cb01186-e096-4d09-a82e-264fa5b2f291",
   "metadata": {},
   "outputs": [],
   "source": []
  }
 ],
 "metadata": {
  "kernelspec": {
   "display_name": "Python 3 (ipykernel)",
   "language": "python",
   "name": "python3"
  },
  "language_info": {
   "codemirror_mode": {
    "name": "ipython",
    "version": 3
   },
   "file_extension": ".py",
   "mimetype": "text/x-python",
   "name": "python",
   "nbconvert_exporter": "python",
   "pygments_lexer": "ipython3",
   "version": "3.12.4"
  }
 },
 "nbformat": 4,
 "nbformat_minor": 5
}
