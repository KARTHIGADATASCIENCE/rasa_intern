{
 "cells": [
  {
   "cell_type": "code",
   "execution_count": 4,
   "id": "e77acc19-aea0-4ca4-86be-b3fe848ee14a",
   "metadata": {},
   "outputs": [
    {
     "name": "stdout",
     "output_type": "stream",
     "text": [
      "Welcome to Hangman!\n",
      "You have 7 wrong guesses left.\n",
      "\n",
      "Missed letters: \n",
      "\n",
      "_ _ _ _ _ _ _ _ \n",
      "\n"
     ]
    },
    {
     "name": "stdin",
     "output_type": "stream",
     "text": [
      "Guess a letter:  a\n"
     ]
    },
    {
     "name": "stdout",
     "output_type": "stream",
     "text": [
      "Oops! That letter is not in the word.\n",
      "You have 6 wrong guesses left.\n",
      "\n",
      "Missed letters: A \n",
      "\n",
      "_ _ _ _ _ _ _ _ \n",
      "\n"
     ]
    },
    {
     "name": "stdin",
     "output_type": "stream",
     "text": [
      "Guess a letter:  c\n"
     ]
    },
    {
     "name": "stdout",
     "output_type": "stream",
     "text": [
      "Good guess!\n",
      "You have 6 wrong guesses left.\n",
      "\n",
      "Missed letters: A \n",
      "\n",
      "_ _ _ C _ _ _ _ \n",
      "\n"
     ]
    },
    {
     "name": "stdin",
     "output_type": "stream",
     "text": [
      "Guess a letter:  r\n"
     ]
    },
    {
     "name": "stdout",
     "output_type": "stream",
     "text": [
      "Oops! That letter is not in the word.\n",
      "You have 5 wrong guesses left.\n",
      "\n",
      "Missed letters: A R \n",
      "\n",
      "_ _ _ C _ _ _ _ \n",
      "\n"
     ]
    },
    {
     "name": "stdin",
     "output_type": "stream",
     "text": [
      "Guess a letter:  i\n"
     ]
    },
    {
     "name": "stdout",
     "output_type": "stream",
     "text": [
      "Good guess!\n",
      "You have 5 wrong guesses left.\n",
      "\n",
      "Missed letters: A R \n",
      "\n",
      "_ _ _ C _ I _ _ \n",
      "\n"
     ]
    },
    {
     "name": "stdin",
     "output_type": "stream",
     "text": [
      "Guess a letter:  f\n"
     ]
    },
    {
     "name": "stdout",
     "output_type": "stream",
     "text": [
      "Good guess!\n",
      "You have 5 wrong guesses left.\n",
      "\n",
      "Missed letters: A R \n",
      "\n",
      "F _ _ C _ I _ _ \n",
      "\n"
     ]
    },
    {
     "name": "stdin",
     "output_type": "stream",
     "text": [
      "Guess a letter:  p\n"
     ]
    },
    {
     "name": "stdout",
     "output_type": "stream",
     "text": [
      "Oops! That letter is not in the word.\n",
      "You have 4 wrong guesses left.\n",
      "\n",
      "Missed letters: A R P \n",
      "\n",
      "F _ _ C _ I _ _ \n",
      "\n"
     ]
    },
    {
     "name": "stdin",
     "output_type": "stream",
     "text": [
      "Guess a letter:  u\n"
     ]
    },
    {
     "name": "stdout",
     "output_type": "stream",
     "text": [
      "Good guess!\n",
      "You have 4 wrong guesses left.\n",
      "\n",
      "Missed letters: A R P \n",
      "\n",
      "F U _ C _ I _ _ \n",
      "\n"
     ]
    },
    {
     "name": "stdin",
     "output_type": "stream",
     "text": [
      "Guess a letter:  n\n"
     ]
    },
    {
     "name": "stdout",
     "output_type": "stream",
     "text": [
      "Good guess!\n",
      "You have 4 wrong guesses left.\n",
      "\n",
      "Missed letters: A R P \n",
      "\n",
      "F U N C _ I _ N \n",
      "\n"
     ]
    },
    {
     "name": "stdin",
     "output_type": "stream",
     "text": [
      "Guess a letter:  t\n"
     ]
    },
    {
     "name": "stdout",
     "output_type": "stream",
     "text": [
      "Good guess!\n",
      "You have 4 wrong guesses left.\n",
      "\n",
      "Missed letters: A R P \n",
      "\n",
      "F U N C T I _ N \n",
      "\n"
     ]
    },
    {
     "name": "stdin",
     "output_type": "stream",
     "text": [
      "Guess a letter:  o\n"
     ]
    },
    {
     "name": "stdout",
     "output_type": "stream",
     "text": [
      "Good guess!\n",
      "Yes! The secret word is FUNCTION! You have won!\n"
     ]
    },
    {
     "name": "stdin",
     "output_type": "stream",
     "text": [
      "\n",
      "Do you want to play again? (yes or no):  N\n"
     ]
    }
   ],
   "source": [
    "import random\n",
    "\n",
    "def choose_word(word_list):\n",
    "    random_word = random.choice(word_list)\n",
    "    return random_word.upper()\n",
    "\n",
    "def display_board(missed_letters, correct_letters, secret_word):\n",
    "    # Display number of wrong guesses remaining\n",
    "    print(f\"You have {7 - len(missed_letters)} wrong guesses left.\")\n",
    "    \n",
    "    # Display missed letters\n",
    "    print(\"\\nMissed letters:\", end=\" \")\n",
    "    for letter in missed_letters:\n",
    "        print(letter, end=\" \")\n",
    "    print(\"\\n\")\n",
    "    \n",
    "    # Display the word with correct guesses revealed\n",
    "    blanks = \"_\" * len(secret_word)\n",
    "    \n",
    "    # Replace blanks with correctly guessed letters\n",
    "    for i in range(len(secret_word)):\n",
    "        if secret_word[i] in correct_letters:\n",
    "            blanks = blanks[:i] + secret_word[i] + blanks[i+1:]\n",
    "    \n",
    "    # Display the word with spaces between each character\n",
    "    for letter in blanks:\n",
    "        print(letter, end=\" \")\n",
    "    print(\"\\n\")\n",
    "\n",
    "def get_guess(already_guessed):\n",
    "    while True:\n",
    "        guess = input(\"Guess a letter: \").upper()\n",
    "        \n",
    "        if len(guess) != 1:\n",
    "            print(\"Please enter a single letter.\")\n",
    "        elif guess not in 'ABCDEFGHIJKLMNOPQRSTUVWXYZ':\n",
    "            print(\"Please enter a LETTER.\")\n",
    "        elif guess in already_guessed:\n",
    "            print(\"You have already guessed that letter. Choose again.\")\n",
    "        else:\n",
    "            return guess\n",
    "\n",
    "def check_game_over(correct_letters, missed_letters, secret_word):\n",
    "    #Check if the game is over and return True if it is, False otherwise.\n",
    "    # Check if player has won (all letters in secret_word are in correct_letters)\n",
    "    won = True\n",
    "    for letter in secret_word:\n",
    "        if letter not in correct_letters:\n",
    "            won = False\n",
    "            break\n",
    "    \n",
    "    # Check if player has lost (7 wrong guesses)\n",
    "    lost = len(missed_letters) >= 7\n",
    "    \n",
    "    if won:\n",
    "        print(f\"Yes! The secret word is {secret_word}! You have won!\")\n",
    "        return True\n",
    "    elif lost:\n",
    "        print(f\"You have run out of guesses! The word was {secret_word}.\")\n",
    "        return True\n",
    "    else:\n",
    "        return False\n",
    "\n",
    "def play_again():\n",
    "    \"\"\"Ask the player if they want to play again.\"\"\"\n",
    "    return input(\"\\nDo you want to play again? (yes or no): \").lower().startswith('y')\n",
    "\n",
    "def play():\n",
    "    word_list = [\"PYTHON\", \"JUPYTER\", \"PROGRAMMING\", \"FUNCTION\", \"ANALYTICS\",\n",
    "                \"EXPLORE\", \"GENERATIVE\", \"INFINITE\", \"NETWORK\", \"FOUNDATION\",\"INTERN\",\"RASAAI\",\"CHENNAI\",\"LLM\"]\n",
    "    # Feel free to add more words to the above list\n",
    "    \n",
    "    secret_word = choose_word(word_list)\n",
    "    missed_letters = []\n",
    "    correct_letters = []\n",
    "\n",
    "    while True:\n",
    "        display_board(missed_letters, correct_letters, secret_word)\n",
    "\n",
    "        guess = get_guess(missed_letters + correct_letters)\n",
    "\n",
    "        # Update correct_letters and missed_letters based on the guess\n",
    "        if guess in secret_word:\n",
    "            correct_letters.append(guess)\n",
    "            print(\"Good guess!\")\n",
    "        else:\n",
    "            missed_letters.append(guess)\n",
    "            print(\"Oops! That letter is not in the word.\")\n",
    "\n",
    "        game_over = check_game_over(correct_letters, missed_letters, secret_word)\n",
    "\n",
    "        if game_over:\n",
    "            if play_again():\n",
    "                missed_letters = []\n",
    "                correct_letters = []\n",
    "                secret_word = choose_word(word_list)\n",
    "            else:\n",
    "                break\n",
    "\n",
    "# Run the game \n",
    "if __name__ == \"__main__\":\n",
    "    print(\"Welcome to Hangman!\")\n",
    "    play()\n",
    "    "
   ]
  },
  {
   "cell_type": "code",
   "execution_count": null,
   "id": "813d7422-4584-4c03-92f4-571195baeb8a",
   "metadata": {},
   "outputs": [],
   "source": []
  },
  {
   "cell_type": "code",
   "execution_count": null,
   "id": "f5c3fe02-3bd4-40de-95aa-08c6d6b72ece",
   "metadata": {},
   "outputs": [],
   "source": []
  }
 ],
 "metadata": {
  "kernelspec": {
   "display_name": "Python 3 (ipykernel)",
   "language": "python",
   "name": "python3"
  },
  "language_info": {
   "codemirror_mode": {
    "name": "ipython",
    "version": 3
   },
   "file_extension": ".py",
   "mimetype": "text/x-python",
   "name": "python",
   "nbconvert_exporter": "python",
   "pygments_lexer": "ipython3",
   "version": "3.12.4"
  }
 },
 "nbformat": 4,
 "nbformat_minor": 5
}
