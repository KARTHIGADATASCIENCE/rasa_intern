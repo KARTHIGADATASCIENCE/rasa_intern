{
 "cells": [
  {
   "cell_type": "markdown",
   "id": "d7917899-f1d2-4966-aa4a-3a3375db5fcd",
   "metadata": {},
   "source": [
    "## creating data"
   ]
  },
  {
   "cell_type": "code",
   "execution_count": 29,
   "id": "19a10eda-ad40-459c-bcbb-c522f80671ac",
   "metadata": {},
   "outputs": [],
   "source": [
    "student_marks=[['NAME',['A','B','C','D','E']],\n",
    "               ['Ankit',[41, 34, 45, 55, 63]],\n",
    "                ['Aravind', [42, 23, 34, 44, 53]],\n",
    "                ['Lakshay', [32, 23, 13, 54, 67]],\n",
    "                ['Gyan', [23, 82, 23, 63, 34]],\n",
    "                ['Pranav', [21, 23, 25, 56, 56]]]"
   ]
  },
  {
   "cell_type": "code",
   "execution_count": 31,
   "id": "f5aae4e7-f219-418f-849e-73b8ffbef144",
   "metadata": {},
   "outputs": [],
   "source": [
    "#taking necessary data\n",
    "student=student_marks[1:]"
   ]
  },
  {
   "cell_type": "markdown",
   "id": "e45f19e3-ad2c-40e7-a63a-d00a1cd21fc4",
   "metadata": {},
   "source": [
    "## Question 1: Who scored the highest marks in the subject B?"
   ]
  },
  {
   "cell_type": "code",
   "execution_count": 35,
   "id": "ef4993f7-3a4e-4d0b-8d8d-fa44e14a7296",
   "metadata": {},
   "outputs": [
    {
     "name": "stdout",
     "output_type": "stream",
     "text": [
      "scored high Gyan\n"
     ]
    }
   ],
   "source": [
    "max= 0\n",
    "top_std= \"\"\n",
    "\n",
    "for i in student:\n",
    "    mark_in_B=i[1][1]\n",
    "    std=i[0]\n",
    "\n",
    "    if mark_in_B>max:\n",
    "        max=mark_in_B\n",
    "        top_std=std\n",
    "\n",
    "print(\"scored high\",top_std)"
   ]
  },
  {
   "cell_type": "markdown",
   "id": "f1d374e6-22a1-4f11-81aa-2d8575f6fa24",
   "metadata": {},
   "source": [
    "## Question 2: What is the average marks scored in the subject C?"
   ]
  },
  {
   "cell_type": "code",
   "execution_count": 42,
   "id": "5b132a99-45b1-45dd-9dad-d341b6df2f3a",
   "metadata": {},
   "outputs": [
    {
     "name": "stdout",
     "output_type": "stream",
     "text": [
      "average score 28.0\n"
     ]
    }
   ],
   "source": [
    "total_mrk=0\n",
    "total_std=len(student)\n",
    "for i in student:\n",
    "    mrk_c=i[1][2]\n",
    "    total_mrk+=mrk_c\n",
    "\n",
    "    avg=total_mrk/total_std\n",
    "print(\"average score\",avg)\n",
    "    "
   ]
  },
  {
   "cell_type": "markdown",
   "id": "3e099e23-913a-435e-bae8-36143284a417",
   "metadata": {},
   "source": [
    "## Question 3: Who scored the highest percentage of marks?"
   ]
  },
  {
   "cell_type": "code",
   "execution_count": 61,
   "id": "757f4131-5a43-4912-8938-11e7e0b82b35",
   "metadata": {},
   "outputs": [
    {
     "name": "stdout",
     "output_type": "stream",
     "text": [
      "highest percentage scorer Ankit\n"
     ]
    }
   ],
   "source": [
    "max_percentage=0\n",
    "top_std=\"\"\n",
    "for i in student:\n",
    "    name=i[0]\n",
    "    marks=i[1]\n",
    "    total=sum(marks)\n",
    "    percentage=(total/500)*100\n",
    "\n",
    "    if percentage > max_percentage:\n",
    "        max_percentage=percentage\n",
    "        top_std=name\n",
    "\n",
    "print(\"highest percentage scorer\", top_std)\n"
   ]
  },
  {
   "cell_type": "markdown",
   "id": "fcaf6613-1e32-424a-b397-9bae2f425640",
   "metadata": {},
   "source": [
    "## Question 4: If considering only top-4 subjects of a candidate, who scored the highest percentage?"
   ]
  },
  {
   "cell_type": "code",
   "execution_count": 66,
   "id": "c0145f74-65b5-4690-aa3c-b2c721fa8bd5",
   "metadata": {},
   "outputs": [
    {
     "name": "stdout",
     "output_type": "stream",
     "text": [
      "high percent: Ankit\n"
     ]
    }
   ],
   "source": [
    "max_percent=0\n",
    "top_std=\"\"\n",
    "for i in student:\n",
    "    name=i[0]\n",
    "    mrk=i[1]\n",
    "\n",
    "    top_4_mrk=sorted(mrk,reverse=True)[:4]\n",
    "    total=sum(top_4_mrk)\n",
    "    percent=(total/400)*100\n",
    "\n",
    "    if percent>max_percent:\n",
    "        top_std=name\n",
    "        max_percent=percent\n",
    "print(\"high percent:\",top_std)"
   ]
  },
  {
   "cell_type": "code",
   "execution_count": null,
   "id": "f4e37a41-7f22-4fde-8fe7-1438e0d35c1c",
   "metadata": {},
   "outputs": [],
   "source": []
  }
 ],
 "metadata": {
  "kernelspec": {
   "display_name": "Python 3 (ipykernel)",
   "language": "python",
   "name": "python3"
  },
  "language_info": {
   "codemirror_mode": {
    "name": "ipython",
    "version": 3
   },
   "file_extension": ".py",
   "mimetype": "text/x-python",
   "name": "python",
   "nbconvert_exporter": "python",
   "pygments_lexer": "ipython3",
   "version": "3.12.4"
  }
 },
 "nbformat": 4,
 "nbformat_minor": 5
}
