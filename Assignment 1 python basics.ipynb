{
 "cells": [
  {
   "cell_type": "markdown",
   "id": "9fb03336-defb-4a18-8c83-808dac6db01d",
   "metadata": {},
   "source": [
    "# Formatted Twinkle Poem\n",
    "## Task: Write a Python program to print the following poem in a specific format."
   ]
  },
  {
   "cell_type": "code",
   "execution_count": 1,
   "id": "214b3864-82c6-4c48-b306-46ad74364c66",
   "metadata": {},
   "outputs": [
    {
     "name": "stdout",
     "output_type": "stream",
     "text": [
      "Twinkle,twinkle,little star,\n",
      "\tHow I wonder what you are!\n",
      "\t\tUp above the world so high,\n",
      "\t\tLike a diamond in the sky.\n",
      "Twinkle, twinkle, little star,\n",
      "\tHow I wonder what you are\n"
     ]
    }
   ],
   "source": [
    "print(\"Twinkle,twinkle,little star,\")\n",
    "print(\"\\tHow I wonder what you are!\")\n",
    "print(\"\\t\\tUp above the world so high,\")\n",
    "print(\"\\t\\tLike a diamond in the sky.\")\n",
    "print(\"Twinkle, twinkle, little star,\")\n",
    "print(\"\\tHow I wonder what you are\")"
   ]
  },
  {
   "cell_type": "markdown",
   "id": "f7921507-67a4-453e-9be4-6ec96f5172b2",
   "metadata": {},
   "source": [
    "# Python Version Checker\n",
    "## Task: Write a Python program to find out what version of Python you are using."
   ]
  },
  {
   "cell_type": "code",
   "execution_count": 9,
   "id": "8e81e4c9-a7b5-4295-8ebb-b4d74beec770",
   "metadata": {},
   "outputs": [
    {
     "name": "stdout",
     "output_type": "stream",
     "text": [
      "python version\n",
      "3.12.4 | packaged by Anaconda, Inc. | (main, Jun 18 2024, 15:03:56) [MSC v.1929 64 bit (AMD64)]\n",
      "python info\n",
      "sys.version_info(major=3, minor=12, micro=4, releaselevel='final', serial=0)\n"
     ]
    }
   ],
   "source": [
    "import sys\n",
    "print(\"python version\")\n",
    "print(sys.version)\n",
    "print(\"python info\")\n",
    "print(sys.version_info)"
   ]
  },
  {
   "cell_type": "markdown",
   "id": "c149e4c5-f38b-4717-8a9e-5b1c2b3ee669",
   "metadata": {},
   "source": [
    "# Current DateTime Display\n",
    "## Task: Write a Python program to display the current date and time."
   ]
  },
  {
   "cell_type": "code",
   "execution_count": 16,
   "id": "76904b92-ef4c-47a2-ad0e-47593ac1f62f",
   "metadata": {},
   "outputs": [],
   "source": [
    "import datetime"
   ]
  },
  {
   "cell_type": "code",
   "execution_count": 18,
   "id": "03eb9800-bd47-4b45-a28d-663f70b52754",
   "metadata": {},
   "outputs": [
    {
     "name": "stdout",
     "output_type": "stream",
     "text": [
      "today day is 2025-05-14 08:08:32.569361\n"
     ]
    }
   ],
   "source": [
    "tdy_dat=datetime.datetime.now()\n",
    "print(\"today day is\", tdy_dat)"
   ]
  },
  {
   "cell_type": "markdown",
   "id": "e5fd4b2e-1da0-4dde-981e-61fd155578f8",
   "metadata": {},
   "source": [
    "# Circle Area Calculator\n",
    "## Task: Write a Python program that calculates the area of a circle based on the radius entered by the user."
   ]
  },
  {
   "cell_type": "code",
   "execution_count": 21,
   "id": "b5eac8c9-54d3-4d03-a4cc-817058feda57",
   "metadata": {},
   "outputs": [],
   "source": [
    "from math import pi"
   ]
  },
  {
   "cell_type": "code",
   "execution_count": 25,
   "id": "c6f18174-4b65-49a0-9cc8-20d6d293d5ac",
   "metadata": {},
   "outputs": [
    {
     "name": "stdin",
     "output_type": "stream",
     "text": [
      "enter the radius: 2\n"
     ]
    },
    {
     "name": "stdout",
     "output_type": "stream",
     "text": [
      "area of the circle is : 12.566370614359172\n"
     ]
    }
   ],
   "source": [
    "r=float(input(\"enter the radius:\"))\n",
    "area=pi* r**2\n",
    "print(\"area of the circle is :\" ,area)"
   ]
  },
  {
   "cell_type": "markdown",
   "id": "db1dd0a4-0f7e-4c6f-8f1a-1d0d5e8045cd",
   "metadata": {},
   "source": [
    "# Reverse Full Name\n",
    "## Task: Write a Python program that accepts the user's first and last name and prints them in reverse order."
   ]
  },
  {
   "cell_type": "code",
   "execution_count": 32,
   "id": "932096c4-7452-421b-9023-d424b59bb056",
   "metadata": {},
   "outputs": [
    {
     "name": "stdin",
     "output_type": "stream",
     "text": [
      "enter your first name: Rasa \n",
      "enter your last name: AI\n"
     ]
    },
    {
     "name": "stdout",
     "output_type": "stream",
     "text": [
      "reversed name : AI Rasa \n"
     ]
    }
   ],
   "source": [
    "first_name=input(\"enter your first name:\")\n",
    "last_name=input(\"enter your last name:\")\n",
    "print(\"reversed name :\",last_name,first_name)"
   ]
  },
  {
   "cell_type": "markdown",
   "id": "ebe4a906-2f6e-4818-95db-8443d3986154",
   "metadata": {},
   "source": [
    "# List and Tuple Generator\n",
    "## Task: Write a Python program that accepts a sequence of comma-separated numbers and generates a list and a tuple."
   ]
  },
  {
   "cell_type": "code",
   "execution_count": 37,
   "id": "b67282db-f702-48bf-aaeb-43cb5cff4da1",
   "metadata": {},
   "outputs": [
    {
     "name": "stdin",
     "output_type": "stream",
     "text": [
      "enter values seperated by comma: 2,4,5,7,9,10\n"
     ]
    },
    {
     "name": "stdout",
     "output_type": "stream",
     "text": [
      "List values ['2', '4', '5', '7', '9', '10']\n",
      "Tuple values ('2', '4', '5', '7', '9', '10')\n"
     ]
    }
   ],
   "source": [
    "inputs=input(\"enter values seperated by comma:\")\n",
    "list_val=inputs.split(',')\n",
    "tup_val=tuple(list_val)\n",
    "print(\"List values\",list_val)\n",
    "print(\"Tuple values\", tup_val)"
   ]
  },
  {
   "cell_type": "markdown",
   "id": "64d8d0b6-6d83-4e00-99d8-de61e53e54bf",
   "metadata": {},
   "source": [
    "# File Extension Extractor\n",
    "## Task: Write a Python program that accepts a filename and prints the extension of the file."
   ]
  },
  {
   "cell_type": "code",
   "execution_count": 2,
   "id": "c2100a5a-effd-47bd-94f9-55f5607887fc",
   "metadata": {},
   "outputs": [
    {
     "name": "stdin",
     "output_type": "stream",
     "text": [
      "enter your file name: notes.txt\n"
     ]
    },
    {
     "name": "stdout",
     "output_type": "stream",
     "text": [
      "file extension is txt\n"
     ]
    }
   ],
   "source": [
    "filename=input(\"enter your file name:\")\n",
    "fl_ext=filename.split('.')[-1]\n",
    "print(\"file extension is\",fl_ext)"
   ]
  },
  {
   "cell_type": "markdown",
   "id": "c81f7fe9-544e-4cdf-8ead-25c32b9487f9",
   "metadata": {},
   "source": [
    "# First and Last Colors\n",
    "## Task: Write a Python program to display the first and last colors from the list."
   ]
  },
  {
   "cell_type": "code",
   "execution_count": 5,
   "id": "513344cf-6a28-4b2a-bdcb-654c0e5e164f",
   "metadata": {},
   "outputs": [
    {
     "name": "stdout",
     "output_type": "stream",
     "text": [
      "first colour is red\n",
      "last colour is purple\n"
     ]
    }
   ],
   "source": [
    "clors=['red','blue','black','purple']\n",
    "frst_cl=clors[0]\n",
    "lst_cl=clors[-1]\n",
    "print(\"first colour is\", frst_cl)\n",
    "print(\"last colour is\", lst_cl)"
   ]
  },
  {
   "cell_type": "markdown",
   "id": "065bfaac-9315-4782-a5be-c8e8bde4ed45",
   "metadata": {},
   "source": [
    "# Exam Schedule Formatter\n",
    "## Task: Write a Python program to display the examination schedule."
   ]
  },
  {
   "cell_type": "code",
   "execution_count": 12,
   "id": "119d35a8-c4fc-44b3-acc8-5559f2a4f5a6",
   "metadata": {},
   "outputs": [
    {
     "name": "stdout",
     "output_type": "stream",
     "text": [
      "exam will start from: 11 / 12 / 2014\n"
     ]
    }
   ],
   "source": [
    "exam_st_date = (11, 12, 2014)\n",
    "print(\"exam will start from: %i / %i / %i\" % exam_st_date)"
   ]
  },
  {
   "cell_type": "markdown",
   "id": "7bd2fb12-b42a-40a7-86cf-6242b8f3a466",
   "metadata": {},
   "source": [
    "# Number Expansion Calculator\n",
    "## Task: Write a Python program to calculate the value of n+nn+nnn for a given n."
   ]
  },
  {
   "cell_type": "code",
   "execution_count": 15,
   "id": "891f1e14-cc05-454e-b2ee-8152feb4083a",
   "metadata": {},
   "outputs": [
    {
     "name": "stdin",
     "output_type": "stream",
     "text": [
      "enter a number: 2\n"
     ]
    },
    {
     "name": "stdout",
     "output_type": "stream",
     "text": [
      "the result is  246\n"
     ]
    }
   ],
   "source": [
    "n=int(input(\"enter a number:\"))\n",
    "nn=int(str(n)*2)\n",
    "nnn=int(str(n)*3)\n",
    "result=n+nn+nnn\n",
    "print(\"the result is \" ,result)"
   ]
  },
  {
   "cell_type": "markdown",
   "id": "39052787-f726-4a9d-890a-aa47cab1458d",
   "metadata": {},
   "source": [
    "# Function Documentation Printer\n",
    "## Task: Write a Python program to print documentation of built-in function."
   ]
  },
  {
   "cell_type": "code",
   "execution_count": 18,
   "id": "c45cbe5c-8fb4-4473-b629-f80f8b1310d1",
   "metadata": {},
   "outputs": [
    {
     "name": "stdout",
     "output_type": "stream",
     "text": [
      "Return the absolute value of the argument.\n"
     ]
    }
   ],
   "source": [
    "print(abs.__doc__)"
   ]
  },
  {
   "cell_type": "markdown",
   "id": "fcfcb087-bd03-4899-8d65-e2fafdb00c26",
   "metadata": {},
   "source": [
    "# Monthly Calendar Display\n",
    "## Task: Write a Python program that prints the calendar for a given month and year."
   ]
  },
  {
   "cell_type": "code",
   "execution_count": 26,
   "id": "86792829-954d-4a69-93f0-f8cb711c3fbf",
   "metadata": {},
   "outputs": [
    {
     "name": "stdin",
     "output_type": "stream",
     "text": [
      "enter year 2003\n",
      "enter month number 10\n"
     ]
    },
    {
     "name": "stdout",
     "output_type": "stream",
     "text": [
      "    October 2003\n",
      "Mo Tu We Th Fr Sa Su\n",
      "       1  2  3  4  5\n",
      " 6  7  8  9 10 11 12\n",
      "13 14 15 16 17 18 19\n",
      "20 21 22 23 24 25 26\n",
      "27 28 29 30 31\n",
      "\n"
     ]
    }
   ],
   "source": [
    "import calendar\n",
    "year=int(input(\"enter year\"))\n",
    "month=int(input(\"enter month number\"))\n",
    "output=calendar.month(year,month)\n",
    "print(output)"
   ]
  },
  {
   "cell_type": "markdown",
   "id": "0cc73316-45d9-4162-a170-29b71e7b0838",
   "metadata": {},
   "source": [
    "# Multi-line Here Document\n",
    "## Task: Write a Python program to print a multi-line 'here document'."
   ]
  },
  {
   "cell_type": "code",
   "execution_count": 29,
   "id": "ba6d0a4c-43f6-44fa-8d15-1fc87b2cdff9",
   "metadata": {},
   "outputs": [
    {
     "name": "stdout",
     "output_type": "stream",
     "text": [
      "\n",
      "a string that you \"don't\" have to escape\n",
      "This\n",
      "is a ....... multi-line\n",
      "heredoc string --------> example\n",
      "\n"
     ]
    }
   ],
   "source": [
    "print(\"\"\"\n",
    "a string that you \"don't\" have to escape\n",
    "This\n",
    "is a ....... multi-line\n",
    "heredoc string --------> example\n",
    "\"\"\")"
   ]
  },
  {
   "cell_type": "markdown",
   "id": "477b00a8-b82a-4f68-b2ce-d454106a34ad",
   "metadata": {},
   "source": [
    "# Days Between Dates\n",
    "## Task: Write a Python program to calculate days between two dates."
   ]
  },
  {
   "cell_type": "code",
   "execution_count": 34,
   "id": "a3f2616f-b7cd-4d98-9463-cf98c1fc944b",
   "metadata": {},
   "outputs": [
    {
     "name": "stdout",
     "output_type": "stream",
     "text": [
      "dates between 26\n"
     ]
    }
   ],
   "source": [
    "from datetime import date\n",
    "f_dt=date(2003,11,7)\n",
    "l_dt=date(2003,12,3)\n",
    "dt=l_dt - f_dt\n",
    "print(\"dates between\", dt.days)"
   ]
  },
  {
   "cell_type": "markdown",
   "id": "08abd0aa-3ddb-41e1-9f37-64523adb74b5",
   "metadata": {},
   "source": [
    "# Sphere Volume Calculator\n",
    "## Task: Write a Python program to get the volume of a sphere with radius 6."
   ]
  },
  {
   "cell_type": "code",
   "execution_count": 39,
   "id": "b7bb51e5-0262-445f-92f0-23b511fdbf34",
   "metadata": {},
   "outputs": [
    {
     "name": "stdin",
     "output_type": "stream",
     "text": [
      "enter radius: 4\n"
     ]
    },
    {
     "name": "stdout",
     "output_type": "stream",
     "text": [
      "volume of the sphere is  268.082573106329\n"
     ]
    }
   ],
   "source": [
    "from math import pi\n",
    "r=int(input(\"enter radius:\"))\n",
    "vol=(4.0/3.0)*pi * r**3\n",
    "print(\"volume of the sphere is \", vol)"
   ]
  },
  {
   "cell_type": "markdown",
   "id": "09fdab57-39dc-4a54-8c9c-1f303821d07a",
   "metadata": {},
   "source": [
    "# Difference from 17\n",
    "## Task: Calculate the difference between a given number and 17. If the number is greater than 17, return twice the absolute difference."
   ]
  },
  {
   "cell_type": "code",
   "execution_count": 44,
   "id": "4d6df352-9ae3-4784-9b3d-8f0602146131",
   "metadata": {},
   "outputs": [
    {
     "name": "stdin",
     "output_type": "stream",
     "text": [
      "enter a number 5\n"
     ]
    },
    {
     "name": "stdout",
     "output_type": "stream",
     "text": [
      "12\n"
     ]
    }
   ],
   "source": [
    "def diff(n):\n",
    "    if n>17:\n",
    "        return 2 * abs(n-17)\n",
    "    else:\n",
    "        return (17-n)\n",
    "n=int(input('enter a number'))\n",
    "print(diff(n))"
   ]
  },
  {
   "cell_type": "markdown",
   "id": "9ce59f3e-86ce-49e5-8e9a-70c11fc3cb08",
   "metadata": {},
   "source": [
    "# Number Range Tester\n",
    "## Task: Test whether a number is within 100 of 1000 or 2000."
   ]
  },
  {
   "cell_type": "code",
   "execution_count": 67,
   "id": "2fd6be71-0231-4804-9666-d0d1f313344e",
   "metadata": {},
   "outputs": [
    {
     "name": "stdout",
     "output_type": "stream",
     "text": [
      "True\n",
      "False\n",
      "False\n"
     ]
    }
   ],
   "source": [
    "def num_range(n):\n",
    "    return (abs(1000 - n) <=100 ) or (abs(2000 - n) <=100)\n",
    "\n",
    "print(num_range(1000))\n",
    "print(num_range(4000))\n",
    "print(num_range(-4))"
   ]
  },
  {
   "cell_type": "markdown",
   "id": "e7d6599a-81de-4e8e-bd48-8e60e73af5d7",
   "metadata": {},
   "source": [
    "# Triple Sum Calculator\n",
    "## Task: Calculate the sum of three numbers. If all are equal, return thrice their sum."
   ]
  },
  {
   "cell_type": "code",
   "execution_count": 72,
   "id": "ce552199-ebb7-4de5-909c-940006b01bb5",
   "metadata": {},
   "outputs": [
    {
     "name": "stdout",
     "output_type": "stream",
     "text": [
      "12\n",
      "18\n"
     ]
    }
   ],
   "source": [
    "def triple_sum(x,y,z):\n",
    "    if x==y==z:\n",
    "        print( 3* (x+y+z))\n",
    "    else:\n",
    "        print( x+y+z)\n",
    "\n",
    "triple_sum(3,4,5)\n",
    "triple_sum(2,2,2)"
   ]
  },
  {
   "cell_type": "markdown",
   "id": "171b4292-9d10-41e7-8d1c-daf57e305688",
   "metadata": {},
   "source": [
    "# Prefix 'Is' String Modifier\n",
    "## Task: Get a new string with 'Is' added to the front. If it already begins with 'Is', return unchanged."
   ]
  },
  {
   "cell_type": "code",
   "execution_count": 87,
   "id": "c3302c09-871e-4ee4-be1f-cc8bde925d29",
   "metadata": {},
   "outputs": [
    {
     "name": "stdout",
     "output_type": "stream",
     "text": [
      "Ishello\n"
     ]
    }
   ],
   "source": [
    "def strng(text):\n",
    "    if len(text)>=2 and text[:2]=='Is':\n",
    "        return text\n",
    "    else:\n",
    "        return \"Is\"+text\n",
    "\n",
    "print(strng(\"hello\"))"
   ]
  },
  {
   "cell_type": "markdown",
   "id": "d9c72adb-649f-47a3-ad55-68430c5968c7",
   "metadata": {},
   "source": [
    "# String Copy Generator\n",
    "## Task: Return a string that is n copies of a given string."
   ]
  },
  {
   "cell_type": "code",
   "execution_count": 92,
   "id": "37de2e84-20ab-4d1b-973c-e3a602399174",
   "metadata": {},
   "outputs": [
    {
     "name": "stdout",
     "output_type": "stream",
     "text": [
      "hellohellohello\n"
     ]
    }
   ],
   "source": [
    "def copies_str(text,n):\n",
    "    return text*n\n",
    "\n",
    "print(copies_str(\"hello\", 3))"
   ]
  },
  {
   "cell_type": "markdown",
   "id": "a7cfc51e-43d8-4557-b8f6-b7159b75c6fc",
   "metadata": {},
   "source": [
    "# Even or Odd Checker\n",
    "## Task: Determine whether a number is even or odd.\n"
   ]
  },
  {
   "cell_type": "code",
   "execution_count": 95,
   "id": "2d28f4b3-d7e0-43e6-9821-6a3b9bd24efc",
   "metadata": {},
   "outputs": [
    {
     "name": "stdin",
     "output_type": "stream",
     "text": [
      "enter a number: 3\n"
     ]
    },
    {
     "name": "stdout",
     "output_type": "stream",
     "text": [
      "given number is odd\n"
     ]
    }
   ],
   "source": [
    "n=int(input(\"enter a number:\"))\n",
    "if n%2==0:\n",
    "    print(\"given number is even\")\n",
    "\n",
    "else:\n",
    "    print(\"given number is odd\")"
   ]
  },
  {
   "cell_type": "markdown",
   "id": "e1b9c64d-bf44-44a9-8e39-e8762c34c01a",
   "metadata": {},
   "source": [
    "# Count 4 in List\n",
    "## Task: Count the number 4 in a given list."
   ]
  },
  {
   "cell_type": "code",
   "execution_count": 98,
   "id": "6c365d00-aa03-4842-a2bb-a0378267665d",
   "metadata": {},
   "outputs": [
    {
     "name": "stdout",
     "output_type": "stream",
     "text": [
      "2\n"
     ]
    }
   ],
   "source": [
    "def count_4(lst):\n",
    "    count=0\n",
    "    for i in lst:\n",
    "        if i==4:\n",
    "            count+=1\n",
    "    return count\n",
    "lst=[2,4,6,4,9,31]\n",
    "print(count_4(lst))"
   ]
  },
  {
   "cell_type": "markdown",
   "id": "a8a40c19-58c6-439b-b395-45806b80e919",
   "metadata": {},
   "source": [
    "# Vowel Tester\n",
    "## Task: Test whether a passed letter is a vowel or not."
   ]
  },
  {
   "cell_type": "code",
   "execution_count": 107,
   "id": "5c519452-4b74-4867-8b0c-194d24b901b8",
   "metadata": {},
   "outputs": [
    {
     "name": "stdin",
     "output_type": "stream",
     "text": [
      "enter a letter A\n"
     ]
    },
    {
     "name": "stdout",
     "output_type": "stream",
     "text": [
      "it is a vowel\n"
     ]
    }
   ],
   "source": [
    "def vowel_check(word):\n",
    "    vow=\"aeiou\"\n",
    "    if word in vow:\n",
    "        print(\"it is a vowel\")\n",
    "    else:\n",
    "        print(\"it is not a vowel\")\n",
    "word=input(\"enter a letter\").lower()\n",
    "vowel_check(word)"
   ]
  },
  {
   "cell_type": "markdown",
   "id": "cb9f3b95-1848-4f91-9cbe-a022a309365b",
   "metadata": {},
   "source": [
    "# Value in Group Tester\n",
    "## Task: Check whether a value is contained in a group."
   ]
  },
  {
   "cell_type": "code",
   "execution_count": 114,
   "id": "e9da5b42-2d2d-4c2e-9ed2-52c5995b1081",
   "metadata": {},
   "outputs": [
    {
     "name": "stdin",
     "output_type": "stream",
     "text": [
      "enter a value 2\n"
     ]
    },
    {
     "name": "stdout",
     "output_type": "stream",
     "text": [
      "True\n"
     ]
    }
   ],
   "source": [
    "def grp_tester(val,grp):\n",
    "    return val in grp\n",
    "\n",
    "grp=[4,6,86,9,2,10,-2,42]\n",
    "\n",
    "val=int(input(\"enter a value\"))\n",
    "print(grp_tester(val,grp))"
   ]
  },
  {
   "cell_type": "markdown",
   "id": "50df7c01-d1b9-4080-b984-dc1b84fdf120",
   "metadata": {},
   "source": [
    "# List Histogram\n",
    "## Task: Create a histogram from a list of integers."
   ]
  },
  {
   "cell_type": "code",
   "execution_count": 119,
   "id": "e6e26328-5dd4-422e-bcd8-6e34b7d4c34f",
   "metadata": {},
   "outputs": [
    {
     "name": "stdout",
     "output_type": "stream",
     "text": [
      "**\n",
      "****\n",
      "******\n"
     ]
    }
   ],
   "source": [
    "def histogram(lst):\n",
    "    for n in lst:\n",
    "        print('*'*n)\n",
    "\n",
    "histogram([2,4,6])"
   ]
  },
  {
   "cell_type": "code",
   "execution_count": null,
   "id": "2727a44c-b8a9-4ba4-8ec3-ed1085bee726",
   "metadata": {},
   "outputs": [],
   "source": []
  }
 ],
 "metadata": {
  "kernelspec": {
   "display_name": "Python 3 (ipykernel)",
   "language": "python",
   "name": "python3"
  },
  "language_info": {
   "codemirror_mode": {
    "name": "ipython",
    "version": 3
   },
   "file_extension": ".py",
   "mimetype": "text/x-python",
   "name": "python",
   "nbconvert_exporter": "python",
   "pygments_lexer": "ipython3",
   "version": "3.12.4"
  }
 },
 "nbformat": 4,
 "nbformat_minor": 5
}
